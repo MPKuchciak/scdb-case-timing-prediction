{
 "cells": [
  {
   "cell_type": "markdown",
   "id": "0dec5f08",
   "metadata": {},
   "source": [
    "# Notebook 000: Project Environment & Dependency Management"
   ]
  },
  {
   "cell_type": "markdown",
   "id": "703afb55",
   "metadata": {},
   "source": [
    "This notebook serves three main purposes:\n",
    "1.  **Environment Introspection:** Helps verify the Python environment and `pip` being used by the current Jupyter kernel.\n",
    "2.  **Environment Setup Guidance:** Provides instructions for creating a dedicated virtual environment (recommended).\n",
    "3.  **`requirements.txt` Management:**\n",
    "    * Generates a `requirements.txt` file from the current environment.\n",
    "    * Provides a command to install packages from an existing `requirements.txt` file.\n",
    "\n",
    "**IMPORTANT:** For installing packages or freezing requirements for *this specific project*, ensure this notebook's kernel is set to your project's dedicated virtual environment (e.g., `.venv_scdb`, `scdb_conda_env`)."
   ]
  },
  {
   "cell_type": "markdown",
   "id": "3068941c",
   "metadata": {},
   "source": [
    "## 1. Imports and Initial Checks"
   ]
  },
  {
   "cell_type": "code",
   "execution_count": 1,
   "id": "b49a3f1a",
   "metadata": {},
   "outputs": [
    {
     "name": "stdout",
     "output_type": "stream",
     "text": [
      "--- Current Environment Details ---\n",
      "\n",
      "--- Pip Details (run in a new cell if '%' magic is preferred) ---\n",
      "Run '%pip show pip' in a new cell to see pip version and location.\n"
     ]
    }
   ],
   "source": [
    "import os\n",
    "import sys\n",
    "import platform # To check OS for platform-specific commands\n",
    "import shutil # For file operations like moving/archiving\n",
    "from datetime import datetime # For timestamping archived files\n",
    "\n",
    "print(\"--- Current Environment Details ---\")\n",
    "\n",
    "# Shows the path to the Python interpreter the kernel is using\n",
    "# This SHOULD point to the python.exe or python binary within virtual environment\n",
    "#print(f\"Python Executable: {sys.executable}\")\n",
    "\n",
    "# Shows the paths Python searches for modules (site-packages will be in here)\n",
    "# You should see paths related to your virtual environment listed prominently\n",
    "# print(\"\\nPython Search Path (sys.path):\")\n",
    "# for path_item in sys.path:\n",
    "#     print(f\"  - {path_item}\")\n",
    "\n",
    "# Displays detailed information about the installed 'pip' package\n",
    "# Check its 'Location' to confirm it's part of your virtual environment\n",
    "print(\"\\n--- Pip Details (run in a new cell if '%' magic is preferred) ---\")\n",
    "print(\"Run '%pip show pip' in a new cell to see pip version and location.\")\n",
    "#%pip show pip\n",
    "\n",
    "# Returns a string representing the Current Working Directory (CWD)\n",
    "# This is where relative file paths are resolved from by default.\n",
    "#print(f\"\\nCurrent Working Directory (os.getcwd()): {os.getcwd()}\")"
   ]
  },
  {
   "cell_type": "markdown",
   "id": "2a5ff519",
   "metadata": {},
   "source": [
    "## 2. Guidance on Creating Virtual Environments"
   ]
  },
  {
   "cell_type": "markdown",
   "id": "1b8fd588",
   "metadata": {},
   "source": [
    "### Environment Setup Instructions (Recommended: Perform in Terminal)\n",
    "\n",
    "It is **highly recommended** to create and activate a dedicated virtual environment for this project *from your terminal* **BEFORE** launching Jupyter Lab/Notebook for the first time. This isolates project dependencies.\n",
    "\n",
    "---\n",
    "#### Option A: Using `venv` (standard Python)\n",
    "1.  Open your terminal (Git Bash, PowerShell, CMD, or your system's terminal).\n",
    "2.  Navigate to your project's root directory (e.g., `H:\\...\\scdb-case-timing-prediction`).\n",
    "3.  Create the virtual environment (e.g., named `.venv_scdb`):\n",
    "    `python -m venv .venv_scdb`\n",
    "4.  Activate the environment:\n",
    "    * Windows (Git Bash/PowerShell): `source .venv_scdb/Scripts/activate`\n",
    "    * Windows (CMD): `.venv_scdb\\Scripts\\activate.bat`\n",
    "    * macOS/Linux: `source .venv_scdb/bin/activate`\n",
    "    *(Your terminal prompt should change to indicate the active environment, e.g., `(.venv_scdb)`)*\n",
    "5.  Install `ipykernel` into this new environment:\n",
    "    `pip install ipykernel pandas numpy matplotlib seaborn scikit-learn xgboost hyperopt jupyterlab` (Add other core packages)\n",
    "6.  Register this environment as a Jupyter kernel:\n",
    "    `python -m ipykernel install --user --name=.venv_scdb --display-name \"Python (.venv_scdb)\"`\n",
    "7.  Now, start Jupyter Lab/Notebook from this activated terminal:\n",
    "    `jupyter lab`\n",
    "8.  When you open any project notebook, select the \"Python (.venv_scdb)\" kernel from the Kernel menu.\n",
    "\n",
    "---\n",
    "#### Option B: Using `conda`\n",
    "1.  Open your Anaconda Prompt or terminal.\n",
    "2.  Create the conda environment (e.g., named `scdb_env` with Python 3.9):\n",
    "    `conda create --name scdb_env python=3.9 -y`\n",
    "3.  Activate the environment:\n",
    "    `conda activate scdb_env`\n",
    "4.  Install `ipykernel` and other core packages:\n",
    "    `conda install ipykernel pandas numpy matplotlib seaborn scikit-learn xgboost -c conda-forge -y`\n",
    "    `pip install hyperopt` (if not easily available on conda-forge for your setup)\n",
    "5.  Register this environment as a Jupyter kernel:\n",
    "    `python -m ipykernel install --user --name=scdb_conda_env --display-name \"Python (scdb_conda_env)\"`\n",
    "6.  Now, start Jupyter Lab/Notebook from this activated terminal:\n",
    "    `jupyter lab`\n",
    "7.  When you open any project notebook, select the \"Python (scdb_conda_env)\" kernel.\n",
    "---"
   ]
  },
  {
   "cell_type": "markdown",
   "id": "b43170a9",
   "metadata": {},
   "source": [
    "## 3. Creation of `requirements.txt`"
   ]
  },
  {
   "cell_type": "code",
   "execution_count": 2,
   "id": "f7b17de4",
   "metadata": {},
   "outputs": [],
   "source": [
    "# Variable to decide if you want to generate the requirements.txt file\n",
    "generate_requirements = True"
   ]
  },
  {
   "cell_type": "code",
   "execution_count": 3,
   "id": "1a4a6d1d",
   "metadata": {},
   "outputs": [
    {
     "name": "stdout",
     "output_type": "stream",
     "text": [
      "Notebook is currently running in: h:\\000_Projects\\01_GitHub\\05_PythonProjects\\scdb-case-timing-prediction\\notebooks\n",
      "Target 'requirements.txt' absolute path: h:\\000_Projects\\01_GitHub\\05_PythonProjects\\scdb-case-timing-prediction\\requirements.txt\n",
      "Target 'archive' folder absolute path: h:\\000_Projects\\01_GitHub\\05_PythonProjects\\scdb-case-timing-prediction\\archive\n",
      "File 'h:\\000_Projects\\01_GitHub\\05_PythonProjects\\scdb-case-timing-prediction\\requirements.txt' already exists.\n",
      "Skipping generation/update of 'h:\\000_Projects\\01_GitHub\\05_PythonProjects\\scdb-case-timing-prediction\\requirements.txt'.\n",
      "\n",
      "ACTION: Please run the following command in the NEXT notebook cell to generate/update 'h:\\000_Projects\\01_GitHub\\05_PythonProjects\\scdb-case-timing-prediction\\requirements.txt':\n",
      "%pip freeze > ../requirements.txt\n"
     ]
    }
   ],
   "source": [
    "import os\n",
    "import shutil # Make sure shutil is imported\n",
    "from datetime import datetime # Make sure datetime is imported\n",
    "\n",
    "# --- Path Configuration ---\n",
    "# Determine current notebook directory and project root.\n",
    "current_notebook_dir = os.getcwd()\n",
    "print(f\"Notebook is currently running in: {current_notebook_dir}\")\n",
    "\n",
    "# Logic to determine project root and relative path for requirements.txt\n",
    "if os.path.basename(current_notebook_dir).lower() == 'notebooks':\n",
    "    project_root_dir_for_paths = os.path.abspath(os.path.join(current_notebook_dir, \"..\"))\n",
    "    pip_freeze_path_display = '../requirements.txt' # Path for %pip freeze command\n",
    "else: # Assuming notebook is in project root\n",
    "    project_root_dir_for_paths = current_notebook_dir\n",
    "    pip_freeze_path_display = 'requirements.txt'   # Path for %pip freeze command\n",
    "\n",
    "requirements_file_abs_path = os.path.join(project_root_dir_for_paths, 'requirements.txt')\n",
    "archive_folder_abs_path = os.path.join(project_root_dir_for_paths, 'archive')\n",
    "\n",
    "print(f\"Target 'requirements.txt' absolute path: {requirements_file_abs_path}\")\n",
    "print(f\"Target 'archive' folder absolute path: {archive_folder_abs_path}\")\n",
    "\n",
    "# # Initialize generate_requirements. This is above.\n",
    "# generate_requirements = False\n",
    "\n",
    "# Ensure archive folder exists (create if not)\n",
    "if not os.path.exists(archive_folder_abs_path):\n",
    "    try:\n",
    "        os.makedirs(archive_folder_abs_path)\n",
    "        print(f\"Created archive folder: {archive_folder_abs_path}\")\n",
    "    except Exception as e:\n",
    "        print(f\"Could not create archive folder at '{archive_folder_abs_path}'. Archiving will be skipped. Error: {e}\")\n",
    "\n",
    "# Check for existing requirements.txt and prompt for overwrite\n",
    "if os.path.exists(requirements_file_abs_path):\n",
    "    print(f\"File '{requirements_file_abs_path}' already exists.\")\n",
    "    user_response = input(\"Do you want to overwrite it? (Yes/No): \").strip().lower() # Changed prompt to y/N\n",
    "    if user_response == 'Yes': # Check for 'Yes'\n",
    "        generate_requirements = True\n",
    "        # Archive the old requirements.txt\n",
    "        if os.path.exists(archive_folder_abs_path): # Check if archive folder actually exists or was created\n",
    "            timestamp = datetime.now().strftime(\"%Y%m%d_%H%M%S\")\n",
    "            archive_file_name = f\"requirements_{timestamp}.archive.txt\" # Suffix for archived file\n",
    "            archive_destination = os.path.join(archive_folder_abs_path, archive_file_name)\n",
    "            try:\n",
    "                # Use absolute paths for file system operations for robustness\n",
    "                shutil.move(requirements_file_abs_path, archive_destination)\n",
    "                print(f\"Old '{requirements_file_abs_path}' moved to '{archive_destination}'.\")\n",
    "            except Exception as e:\n",
    "                print(f\"Could not archive old requirements.txt. Error: {e}\")\n",
    "        else:\n",
    "            print(f\"Archive folder '{archive_folder_abs_path}' not found/creatable. Old file will not be archived.\")\n",
    "        print(f\"Proceeding to generate/overwrite '{requirements_file_abs_path}'.\")\n",
    "    else:\n",
    "        # generate_requirements was initialized to False, so it remains False if user types anything other than 'Yes'\n",
    "        print(f\"Skipping generation/update of '{requirements_file_abs_path}'.\")\n",
    "else:\n",
    "    print(f\"File '{requirements_file_abs_path}' does not exist. Will create it.\")\n",
    "    generate_requirements = True # Set to True to generate the new file\n",
    "\n",
    "if generate_requirements:\n",
    "    print(f\"\\nACTION: Please run the following command in the NEXT notebook cell to generate/update '{requirements_file_abs_path}':\")\n",
    "    # The path used by %pip freeze should be relative to the notebook's CWD (what os.getcwd() returns)\n",
    "    print(f\"%pip freeze > {pip_freeze_path_display}\")\n",
    "else:\n",
    "    print(f\"\\nGeneration of '{requirements_file_abs_path}' was skipped by user.\")"
   ]
  },
  {
   "cell_type": "code",
   "execution_count": null,
   "id": "3000a459",
   "metadata": {},
   "outputs": [
    {
     "name": "stdout",
     "output_type": "stream",
     "text": [
      "Note: you may need to restart the kernel to use updated packages.\n"
     ]
    }
   ],
   "source": [
    "# Uncomment the following line to run the pip freeze command directly in this cell\n",
    "#%pip freeze > ../requirements.txt"
   ]
  },
  {
   "cell_type": "markdown",
   "id": "be43ecea",
   "metadata": {},
   "source": [
    "## 4. Install Packages from requirements.txt "
   ]
  },
  {
   "cell_type": "code",
   "execution_count": null,
   "id": "9a24a26d",
   "metadata": {},
   "outputs": [
    {
     "name": "stdout",
     "output_type": "stream",
     "text": [
      "Requirement already satisfied: asttokens==3.0.0 in d:\\python_env\\scdb\\.venv_scdb\\lib\\site-packages (from -r ../requirements.txt (line 1)) (3.0.0)\n",
      "Requirement already satisfied: colorama==0.4.6 in d:\\python_env\\scdb\\.venv_scdb\\lib\\site-packages (from -r ../requirements.txt (line 2)) (0.4.6)\n",
      "Requirement already satisfied: comm==0.2.2 in d:\\python_env\\scdb\\.venv_scdb\\lib\\site-packages (from -r ../requirements.txt (line 3)) (0.2.2)\n",
      "Requirement already satisfied: debugpy==1.8.14 in d:\\python_env\\scdb\\.venv_scdb\\lib\\site-packages (from -r ../requirements.txt (line 4)) (1.8.14)\n",
      "Requirement already satisfied: decorator==5.2.1 in d:\\python_env\\scdb\\.venv_scdb\\lib\\site-packages (from -r ../requirements.txt (line 5)) (5.2.1)\n",
      "Requirement already satisfied: executing==2.2.0 in d:\\python_env\\scdb\\.venv_scdb\\lib\\site-packages (from -r ../requirements.txt (line 6)) (2.2.0)\n",
      "Requirement already satisfied: ipykernel==6.29.5 in d:\\python_env\\scdb\\.venv_scdb\\lib\\site-packages (from -r ../requirements.txt (line 7)) (6.29.5)\n",
      "Requirement already satisfied: ipython==9.2.0 in d:\\python_env\\scdb\\.venv_scdb\\lib\\site-packages (from -r ../requirements.txt (line 8)) (9.2.0)\n",
      "Requirement already satisfied: ipython_pygments_lexers==1.1.1 in d:\\python_env\\scdb\\.venv_scdb\\lib\\site-packages (from -r ../requirements.txt (line 9)) (1.1.1)\n",
      "Requirement already satisfied: jedi==0.19.2 in d:\\python_env\\scdb\\.venv_scdb\\lib\\site-packages (from -r ../requirements.txt (line 10)) (0.19.2)\n",
      "Requirement already satisfied: jupyter_client==8.6.3 in d:\\python_env\\scdb\\.venv_scdb\\lib\\site-packages (from -r ../requirements.txt (line 11)) (8.6.3)\n",
      "Requirement already satisfied: jupyter_core==5.7.2 in d:\\python_env\\scdb\\.venv_scdb\\lib\\site-packages (from -r ../requirements.txt (line 12)) (5.7.2)\n",
      "Requirement already satisfied: matplotlib-inline==0.1.7 in d:\\python_env\\scdb\\.venv_scdb\\lib\\site-packages (from -r ../requirements.txt (line 13)) (0.1.7)\n",
      "Requirement already satisfied: nest-asyncio==1.6.0 in d:\\python_env\\scdb\\.venv_scdb\\lib\\site-packages (from -r ../requirements.txt (line 14)) (1.6.0)\n",
      "Requirement already satisfied: packaging==25.0 in d:\\python_env\\scdb\\.venv_scdb\\lib\\site-packages (from -r ../requirements.txt (line 15)) (25.0)\n",
      "Requirement already satisfied: parso==0.8.4 in d:\\python_env\\scdb\\.venv_scdb\\lib\\site-packages (from -r ../requirements.txt (line 16)) (0.8.4)\n",
      "Requirement already satisfied: platformdirs==4.3.8 in d:\\python_env\\scdb\\.venv_scdb\\lib\\site-packages (from -r ../requirements.txt (line 17)) (4.3.8)\n",
      "Requirement already satisfied: prompt_toolkit==3.0.51 in d:\\python_env\\scdb\\.venv_scdb\\lib\\site-packages (from -r ../requirements.txt (line 18)) (3.0.51)\n",
      "Requirement already satisfied: psutil==7.0.0 in d:\\python_env\\scdb\\.venv_scdb\\lib\\site-packages (from -r ../requirements.txt (line 19)) (7.0.0)\n",
      "Requirement already satisfied: pure_eval==0.2.3 in d:\\python_env\\scdb\\.venv_scdb\\lib\\site-packages (from -r ../requirements.txt (line 20)) (0.2.3)\n",
      "Requirement already satisfied: Pygments==2.19.1 in d:\\python_env\\scdb\\.venv_scdb\\lib\\site-packages (from -r ../requirements.txt (line 21)) (2.19.1)\n",
      "Requirement already satisfied: python-dateutil==2.9.0.post0 in d:\\python_env\\scdb\\.venv_scdb\\lib\\site-packages (from -r ../requirements.txt (line 22)) (2.9.0.post0)\n",
      "Requirement already satisfied: pywin32==310 in d:\\python_env\\scdb\\.venv_scdb\\lib\\site-packages (from -r ../requirements.txt (line 23)) (310)\n",
      "Requirement already satisfied: pyzmq==26.4.0 in d:\\python_env\\scdb\\.venv_scdb\\lib\\site-packages (from -r ../requirements.txt (line 24)) (26.4.0)\n",
      "Requirement already satisfied: six==1.17.0 in d:\\python_env\\scdb\\.venv_scdb\\lib\\site-packages (from -r ../requirements.txt (line 25)) (1.17.0)\n",
      "Requirement already satisfied: stack-data==0.6.3 in d:\\python_env\\scdb\\.venv_scdb\\lib\\site-packages (from -r ../requirements.txt (line 26)) (0.6.3)\n",
      "Requirement already satisfied: tornado==6.5 in d:\\python_env\\scdb\\.venv_scdb\\lib\\site-packages (from -r ../requirements.txt (line 27)) (6.5)\n",
      "Requirement already satisfied: traitlets==5.14.3 in d:\\python_env\\scdb\\.venv_scdb\\lib\\site-packages (from -r ../requirements.txt (line 28)) (5.14.3)\n",
      "Requirement already satisfied: wcwidth==0.2.13 in d:\\python_env\\scdb\\.venv_scdb\\lib\\site-packages (from -r ../requirements.txt (line 29)) (0.2.13)\n",
      "Note: you may need to restart the kernel to use updated packages.\n",
      "To install packages, uncomment the appropriate '%pip install -r ...' line above and run this cell.\n"
     ]
    }
   ],
   "source": [
    "# Make sure 'requirements.txt' file is in the correct location relative to this notebook.\n",
    "\n",
    "# If this notebook (000_PackageInstallation.ipynb) is in the main project root:\n",
    "#%pip install -r requirements.txt\n",
    "\n",
    "# If this notebook is inside a 'notebooks' subfolder:\n",
    "#%pip install -r ../requirements.txt\n",
    "\n",
    "print(\"To install packages, uncomment the appropriate '%pip install -r ...' line above and run this cell.\")"
   ]
  }
 ],
 "metadata": {
  "kernelspec": {
   "display_name": ".venv_scdb",
   "language": "python",
   "name": "python3"
  },
  "language_info": {
   "codemirror_mode": {
    "name": "ipython",
    "version": 3
   },
   "file_extension": ".py",
   "mimetype": "text/x-python",
   "name": "python",
   "nbconvert_exporter": "python",
   "pygments_lexer": "ipython3",
   "version": "3.12.10"
  }
 },
 "nbformat": 4,
 "nbformat_minor": 5
}
